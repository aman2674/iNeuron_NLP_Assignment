{
 "cells": [
  {
   "cell_type": "markdown",
   "id": "2ba66986",
   "metadata": {},
   "source": [
    "# ***NLP Assignment 1***"
   ]
  },
  {
   "cell_type": "markdown",
   "id": "606f3b83",
   "metadata": {},
   "source": [
    "---\n",
    "---"
   ]
  },
  {
   "cell_type": "markdown",
   "id": "71fd2b23",
   "metadata": {},
   "source": [
    "# ***`Define Natural Language Processing(NLP).`***\n",
    "- Natural language processing (NLP) is one of the most important tasks in the current industry that uses machine learning concepts. NLP deals with anything related to using machines to process and understand human text/speech, which we call Natural Languages. \n",
    "Tasks such as translating between languages, speech recognition, text analysis, and automatic text generation all fall under the scope of NLP.\n",
    "- Natural language deals with two categories of data: spoken and written data. Written data, like text, is more prevalent in NLP tasks, but raw text data is usually unusable in NLP applications. An engineer must first convert the raw text data into usable machine data. That machine data is then fed as an input for an NLP algorithm.\n"
   ]
  },
  {
   "cell_type": "markdown",
   "id": "ae1c9118",
   "metadata": {},
   "source": [
    "---"
   ]
  },
  {
   "cell_type": "markdown",
   "id": "3e9ed448",
   "metadata": {},
   "source": [
    "# ***`What is the acronym for NLP?`***\n",
    "- `NLP` ---> Natural Language Processing"
   ]
  },
  {
   "cell_type": "markdown",
   "id": "af5ff9f5",
   "metadata": {},
   "source": [
    "----"
   ]
  },
  {
   "cell_type": "markdown",
   "id": "be6969b3",
   "metadata": {},
   "source": [
    "# ***`Any four NLP applications should be mentioned.`***\n",
    "1. `Sentiment Analysis` - Natural language understanding is particularly difficult for machines when it comes to opinions, given that humans often use sarcasm and irony. Sentiment analysis, however, is able to recognize subtle nuances in emotions and opinions ‒ and determine how positive or negative they are.\n",
    "\n",
    "\n",
    "\n",
    "2. `Text Classification` - Text classification, a text analysis task that also includes sentiment analysis, involves automatically understanding, processing, and categorizing unstructured text.\n",
    "\n",
    "\n",
    "\n",
    "3. `Auto-Correct` - Natural Language Processing plays a vital role in grammar checking software and auto-correct functions. Tools like Grammarly, for example, use NLP to help you improve your writing, by detecting grammar, spelling, or sentence structure errors. \n",
    "\n",
    "\n",
    "\n",
    "4. `Speech Recognition` - Speech recognition technology uses natural language processing to transform spoken language into a machine-readable format. \n",
    "Speech recognition systems are an essential part of virtual assistants, like Siri, Alexa, and Google Assistant, for example. However, there are more and more use cases of speech recognition in business. For example, adding speech-to-text capabilities to business software, companies are able to automatically transcribe calls, send emails, and even translate\n",
    "\n"
   ]
  },
  {
   "cell_type": "markdown",
   "id": "c541af41",
   "metadata": {},
   "source": [
    "---"
   ]
  },
  {
   "cell_type": "markdown",
   "id": "47ae3a55",
   "metadata": {},
   "source": [
    "# ***`Explain the Spacy library in a few words.`***\n",
    "- spaCy is a free, open-source library for NLP in Python. It’s written in Cython and is designed to build information extraction or natural language understanding systems.\n",
    "- spaCy is designed specifically for production use and helps you build applications that process and “understand” large volumes of text. It can be used to build information extraction or natural language understanding systems, or to pre-process text for deep learning."
   ]
  },
  {
   "cell_type": "markdown",
   "id": "f9cc88c1",
   "metadata": {},
   "source": [
    "---"
   ]
  },
  {
   "cell_type": "markdown",
   "id": "0996c4e9",
   "metadata": {},
   "source": [
    "# ***`Mention how important NLTK is.`***\n",
    "- NLTK (Natural Language Toolkit) is the go-to API for NLP (Natural Language Processing) with Python. It is a really powerful tool to preprocess text data for further analysis like with ML models for instance. It helps convert text into numbers, which the model can then easily work with.\n",
    "- NLTK is a leading platform for building Python programs\n",
    "to work with human language data. It provides easy-to-use\n",
    "interfaces to over 50 corpora and lexical resources such as\n",
    "WordNet, along with a suite of text processing libraries for\n",
    "classification, tokenization, stemming, tagging, parsing,\n",
    "and semantic reasoning.NLTK includes graphical\n",
    "demonstrations and sample data. NLTK is intended to\n",
    "support research and teaching in NLP or closely related\n",
    "areas, including empirical linguistics, cognitive science,\n",
    "artificial intelligence, information retrieval, and machine\n",
    "learning"
   ]
  },
  {
   "cell_type": "markdown",
   "id": "35e6d417",
   "metadata": {},
   "source": [
    "---"
   ]
  },
  {
   "cell_type": "markdown",
   "id": "1ba5e35e",
   "metadata": {},
   "source": [
    "# `Mention the NLTK library's libraries.`\n",
    "- Text classification\n",
    "- Part-of-speech tagging\n",
    "- Entity extraction\n",
    "- Tokenization\n",
    "- Parsing\n",
    "- Stemming\n",
    "- Semantic reasoning"
   ]
  },
  {
   "cell_type": "markdown",
   "id": "60cc0555",
   "metadata": {},
   "source": [
    "---\n",
    "---"
   ]
  }
 ],
 "metadata": {
  "kernelspec": {
   "display_name": "Python 3",
   "language": "python",
   "name": "python3"
  },
  "language_info": {
   "codemirror_mode": {
    "name": "ipython",
    "version": 3
   },
   "file_extension": ".py",
   "mimetype": "text/x-python",
   "name": "python",
   "nbconvert_exporter": "python",
   "pygments_lexer": "ipython3",
   "version": "3.5.6"
  }
 },
 "nbformat": 4,
 "nbformat_minor": 5
}
